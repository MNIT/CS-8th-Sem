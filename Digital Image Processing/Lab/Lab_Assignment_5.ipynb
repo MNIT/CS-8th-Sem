{
  "nbformat": 4,
  "nbformat_minor": 0,
  "metadata": {
    "colab": {
      "name": "Lab Assignment 5.ipynb",
      "version": "0.3.2",
      "provenance": [],
      "collapsed_sections": []
    },
    "kernelspec": {
      "name": "python3",
      "display_name": "Python 3"
    },
    "accelerator": "GPU"
  },
  "cells": [
    {
      "metadata": {
        "id": "7WgrxZMKCpft",
        "colab_type": "code",
        "colab": {}
      },
      "cell_type": "code",
      "source": [
        "import numpy\n",
        "from keras.datasets import mnist\n",
        "from keras import layers\n",
        "from keras.layers import Input, Dense, Activation, ZeroPadding2D\n",
        "from keras.layers import Flatten, Conv2D, MaxPooling2D\n",
        "from keras.models import Model\n",
        "from keras.utils import np_utils\n",
        "\n",
        "from IPython.display import SVG\n",
        "from keras.utils.vis_utils import model_to_dot\n",
        "from keras.utils import plot_model"
      ],
      "execution_count": 0,
      "outputs": []
    },
    {
      "metadata": {
        "id": "EoptGgpLCxB7",
        "colab_type": "code",
        "outputId": "b7b709b9-4b22-4190-fdaa-cfccf85c3217",
        "colab": {
          "base_uri": "https://localhost:8080/",
          "height": 117
        }
      },
      "cell_type": "code",
      "source": [
        "(X_train, Y_train), (X_test, Y_test) = mnist.load_data()\n",
        "\n",
        "X_train = X_train.reshape(X_train.shape[0], X_train.shape[1], X_train.shape[2], 1).astype('float32')\n",
        "X_test = X_test.reshape(X_test.shape[0], X_test.shape[1], X_test.shape[2], 1).astype('float32')\n",
        "\n",
        "X_train/=255\n",
        "X_test/=255\n",
        "\n",
        "number_of_classes = 10\n",
        "Y_train = np_utils.to_categorical(Y_train, number_of_classes)\n",
        "Y_test = np_utils.to_categorical(Y_test, number_of_classes)\n",
        "\n",
        "print (\"number of training examples = \" + str(X_train.shape[0]))\n",
        "print (\"number of test examples = \" + str(X_test.shape[0]))\n",
        "print (\"X_train shape: \" + str(X_train.shape))\n",
        "print (\"Y_train shape: \" + str(Y_train.shape))\n",
        "print (\"X_test shape: \" + str(X_test.shape))\n",
        "print (\"Y_test shape: \" + str(Y_test.shape))"
      ],
      "execution_count": 0,
      "outputs": [
        {
          "output_type": "stream",
          "text": [
            "number of training examples = 60000\n",
            "number of test examples = 10000\n",
            "X_train shape: (60000, 28, 28, 1)\n",
            "Y_train shape: (60000, 10)\n",
            "X_test shape: (10000, 28, 28, 1)\n",
            "Y_test shape: (10000, 10)\n"
          ],
          "name": "stdout"
        }
      ]
    },
    {
      "metadata": {
        "id": "7LrYWSGqEX4e",
        "colab_type": "code",
        "colab": {}
      },
      "cell_type": "code",
      "source": [
        "def DigitClassificationModel(input_shape):\n",
        "    X_input = Input(input_shape, name = \"input\")\n",
        "    \n",
        "    X = Conv2D(16, (5, 5), strides = (1, 1), padding = 'same', name = 'conv0')(X_input)\n",
        "    X = MaxPooling2D(pool_size = (2, 2), name = 'max_pool_0')(X)\n",
        "    X = Activation('relu', name = 'relu_0')(X)\n",
        "    \n",
        "    X = Conv2D(32, (3, 3), strides = (1, 1), padding = 'same', name = 'conv1')(X)\n",
        "    X = MaxPooling2D(pool_size = (2, 2), name = 'max_pool_1')(X)\n",
        "    X = Activation('relu', name = 'relu_1')(X)\n",
        "    \n",
        "    X = Flatten(name = 'flatten')(X)\n",
        "    X = Dense(256, activation = 'relu', name = 'fc0')(X)\n",
        "    X = Dense(number_of_classes, activation='softmax', name = 'fc1')(X)\n",
        "    \n",
        "    model = Model(inputs = X_input, outputs = X, name='Digit Classification')\n",
        "        \n",
        "    return model"
      ],
      "execution_count": 0,
      "outputs": []
    },
    {
      "metadata": {
        "id": "_QVIRQWfFOgw",
        "colab_type": "code",
        "colab": {}
      },
      "cell_type": "code",
      "source": [
        "model = DigitClassificationModel((X_train.shape[1], X_train.shape[2], X_train.shape[3]))\n",
        "\n",
        "model.compile(loss='categorical_crossentropy', optimizer = 'sgd' , metrics = ['accuracy'])"
      ],
      "execution_count": 0,
      "outputs": []
    },
    {
      "metadata": {
        "id": "3oxb8yVBFWWo",
        "colab_type": "code",
        "outputId": "ab0c0ee9-b401-4e5a-9732-ee11ae9dd84b",
        "colab": {
          "base_uri": "https://localhost:8080/",
          "height": 67
        }
      },
      "cell_type": "code",
      "source": [
        "#model.fit(X_train, Y_train, validation_data=(X_test, y_test), epochs=10, batch_size=200)\n",
        "\n",
        "model.fit(X_train, Y_train, epochs = 1, batch_size = 5)"
      ],
      "execution_count": 0,
      "outputs": [
        {
          "output_type": "stream",
          "text": [
            "Epoch 1/1\n",
            "60000/60000 [==============================] - 61s 1ms/step - loss: 0.1768 - acc: 0.9443\n"
          ],
          "name": "stdout"
        },
        {
          "output_type": "execute_result",
          "data": {
            "text/plain": [
              "<keras.callbacks.History at 0x7f19124cd908>"
            ]
          },
          "metadata": {
            "tags": []
          },
          "execution_count": 31
        }
      ]
    },
    {
      "metadata": {
        "id": "zoenfe9eFalB",
        "colab_type": "code",
        "colab": {}
      },
      "cell_type": "code",
      "source": [
        "model.save('mnistCNN.h5')"
      ],
      "execution_count": 0,
      "outputs": []
    },
    {
      "metadata": {
        "id": "ozkfTkIXFyal",
        "colab_type": "code",
        "outputId": "48448906-7581-46e8-a96a-ce3e95b01555",
        "colab": {
          "base_uri": "https://localhost:8080/",
          "height": 84
        }
      },
      "cell_type": "code",
      "source": [
        "preds = model.evaluate(X_test, Y_test)\n",
        "\n",
        "print()\n",
        "print (\"Loss = \" + str(preds[0]))\n",
        "print (\"Test Accuracy = \" + str(preds[1]))"
      ],
      "execution_count": 0,
      "outputs": [
        {
          "output_type": "stream",
          "text": [
            "10000/10000 [==============================] - 1s 113us/step\n",
            "\n",
            "Loss = 0.06452827122583986\n",
            "Test Accuracy = 0.9796\n"
          ],
          "name": "stdout"
        }
      ]
    },
    {
      "metadata": {
        "id": "OB6wPSBUF98Z",
        "colab_type": "code",
        "outputId": "f85f21dc-7bbc-4e62-a091-9a23e7ddcbaa",
        "colab": {
          "base_uri": "https://localhost:8080/",
          "height": 468
        }
      },
      "cell_type": "code",
      "source": [
        "model.summary()"
      ],
      "execution_count": 0,
      "outputs": [
        {
          "output_type": "stream",
          "text": [
            "_________________________________________________________________\n",
            "Layer (type)                 Output Shape              Param #   \n",
            "=================================================================\n",
            "input (InputLayer)           (None, 28, 28, 1)         0         \n",
            "_________________________________________________________________\n",
            "conv0 (Conv2D)               (None, 28, 28, 16)        416       \n",
            "_________________________________________________________________\n",
            "max_pool_0 (MaxPooling2D)    (None, 14, 14, 16)        0         \n",
            "_________________________________________________________________\n",
            "relu_0 (Activation)          (None, 14, 14, 16)        0         \n",
            "_________________________________________________________________\n",
            "conv1 (Conv2D)               (None, 14, 14, 32)        4640      \n",
            "_________________________________________________________________\n",
            "max_pool_1 (MaxPooling2D)    (None, 7, 7, 32)          0         \n",
            "_________________________________________________________________\n",
            "relu_1 (Activation)          (None, 7, 7, 32)          0         \n",
            "_________________________________________________________________\n",
            "flatten (Flatten)            (None, 1568)              0         \n",
            "_________________________________________________________________\n",
            "fc0 (Dense)                  (None, 256)               401664    \n",
            "_________________________________________________________________\n",
            "fc1 (Dense)                  (None, 10)                2570      \n",
            "=================================================================\n",
            "Total params: 409,290\n",
            "Trainable params: 409,290\n",
            "Non-trainable params: 0\n",
            "_________________________________________________________________\n"
          ],
          "name": "stdout"
        }
      ]
    },
    {
      "metadata": {
        "id": "4EdRGvl7NtBj",
        "colab_type": "code",
        "outputId": "d6c7af4e-6270-42ec-c662-4c31ef9bd3a3",
        "colab": {
          "base_uri": "https://localhost:8080/",
          "height": 956
        }
      },
      "cell_type": "code",
      "source": [
        "plot_model(model, to_file='model.png')\n",
        "SVG(model_to_dot(model).create(prog='dot', format='svg'))"
      ],
      "execution_count": 0,
      "outputs": [
        {
          "output_type": "execute_result",
          "data": {
            "text/plain": [
              "<IPython.core.display.SVG object>"
            ],
            "image/svg+xml": "<svg height=\"702pt\" viewBox=\"0.00 0.00 196.00 702.00\" width=\"196pt\" xmlns=\"http://www.w3.org/2000/svg\" xmlns:xlink=\"http://www.w3.org/1999/xlink\">\n<g class=\"graph\" id=\"graph0\" transform=\"scale(1 1) rotate(0) translate(4 698)\">\n<title>G</title>\n<polygon fill=\"#ffffff\" points=\"-4,4 -4,-698 192,-698 192,4 -4,4\" stroke=\"transparent\"/>\n<!-- 139745658490952 -->\n<g class=\"node\" id=\"node1\">\n<title>139745658490952</title>\n<polygon fill=\"none\" points=\"35,-657.5 35,-693.5 153,-693.5 153,-657.5 35,-657.5\" stroke=\"#000000\"/>\n<text fill=\"#000000\" font-family=\"Times,serif\" font-size=\"14.00\" text-anchor=\"middle\" x=\"94\" y=\"-671.8\">input: InputLayer</text>\n</g>\n<!-- 139745663899352 -->\n<g class=\"node\" id=\"node2\">\n<title>139745663899352</title>\n<polygon fill=\"none\" points=\"39,-584.5 39,-620.5 149,-620.5 149,-584.5 39,-584.5\" stroke=\"#000000\"/>\n<text fill=\"#000000\" font-family=\"Times,serif\" font-size=\"14.00\" text-anchor=\"middle\" x=\"94\" y=\"-598.8\">conv0: Conv2D</text>\n</g>\n<!-- 139745658490952&#45;&gt;139745663899352 -->\n<g class=\"edge\" id=\"edge1\">\n<title>139745658490952-&gt;139745663899352</title>\n<path d=\"M94,-657.4551C94,-649.3828 94,-639.6764 94,-630.6817\" fill=\"none\" stroke=\"#000000\"/>\n<polygon fill=\"#000000\" points=\"97.5001,-630.5903 94,-620.5904 90.5001,-630.5904 97.5001,-630.5903\" stroke=\"#000000\"/>\n</g>\n<!-- 139745659038520 -->\n<g class=\"node\" id=\"node3\">\n<title>139745659038520</title>\n<polygon fill=\"none\" points=\"0,-511.5 0,-547.5 188,-547.5 188,-511.5 0,-511.5\" stroke=\"#000000\"/>\n<text fill=\"#000000\" font-family=\"Times,serif\" font-size=\"14.00\" text-anchor=\"middle\" x=\"94\" y=\"-525.8\">max_pool_0: MaxPooling2D</text>\n</g>\n<!-- 139745663899352&#45;&gt;139745659038520 -->\n<g class=\"edge\" id=\"edge2\">\n<title>139745663899352-&gt;139745659038520</title>\n<path d=\"M94,-584.4551C94,-576.3828 94,-566.6764 94,-557.6817\" fill=\"none\" stroke=\"#000000\"/>\n<polygon fill=\"#000000\" points=\"97.5001,-557.5903 94,-547.5904 90.5001,-557.5904 97.5001,-557.5903\" stroke=\"#000000\"/>\n</g>\n<!-- 139745659037232 -->\n<g class=\"node\" id=\"node4\">\n<title>139745659037232</title>\n<polygon fill=\"none\" points=\"34,-438.5 34,-474.5 154,-474.5 154,-438.5 34,-438.5\" stroke=\"#000000\"/>\n<text fill=\"#000000\" font-family=\"Times,serif\" font-size=\"14.00\" text-anchor=\"middle\" x=\"94\" y=\"-452.8\">relu_0: Activation</text>\n</g>\n<!-- 139745659038520&#45;&gt;139745659037232 -->\n<g class=\"edge\" id=\"edge3\">\n<title>139745659038520-&gt;139745659037232</title>\n<path d=\"M94,-511.4551C94,-503.3828 94,-493.6764 94,-484.6817\" fill=\"none\" stroke=\"#000000\"/>\n<polygon fill=\"#000000\" points=\"97.5001,-484.5903 94,-474.5904 90.5001,-484.5904 97.5001,-484.5903\" stroke=\"#000000\"/>\n</g>\n<!-- 139745659036448 -->\n<g class=\"node\" id=\"node5\">\n<title>139745659036448</title>\n<polygon fill=\"none\" points=\"39,-365.5 39,-401.5 149,-401.5 149,-365.5 39,-365.5\" stroke=\"#000000\"/>\n<text fill=\"#000000\" font-family=\"Times,serif\" font-size=\"14.00\" text-anchor=\"middle\" x=\"94\" y=\"-379.8\">conv1: Conv2D</text>\n</g>\n<!-- 139745659037232&#45;&gt;139745659036448 -->\n<g class=\"edge\" id=\"edge4\">\n<title>139745659037232-&gt;139745659036448</title>\n<path d=\"M94,-438.4551C94,-430.3828 94,-420.6764 94,-411.6817\" fill=\"none\" stroke=\"#000000\"/>\n<polygon fill=\"#000000\" points=\"97.5001,-411.5903 94,-401.5904 90.5001,-411.5904 97.5001,-411.5903\" stroke=\"#000000\"/>\n</g>\n<!-- 139745657937816 -->\n<g class=\"node\" id=\"node6\">\n<title>139745657937816</title>\n<polygon fill=\"none\" points=\"0,-292.5 0,-328.5 188,-328.5 188,-292.5 0,-292.5\" stroke=\"#000000\"/>\n<text fill=\"#000000\" font-family=\"Times,serif\" font-size=\"14.00\" text-anchor=\"middle\" x=\"94\" y=\"-306.8\">max_pool_1: MaxPooling2D</text>\n</g>\n<!-- 139745659036448&#45;&gt;139745657937816 -->\n<g class=\"edge\" id=\"edge5\">\n<title>139745659036448-&gt;139745657937816</title>\n<path d=\"M94,-365.4551C94,-357.3828 94,-347.6764 94,-338.6817\" fill=\"none\" stroke=\"#000000\"/>\n<polygon fill=\"#000000\" points=\"97.5001,-338.5903 94,-328.5904 90.5001,-338.5904 97.5001,-338.5903\" stroke=\"#000000\"/>\n</g>\n<!-- 139745657937760 -->\n<g class=\"node\" id=\"node7\">\n<title>139745657937760</title>\n<polygon fill=\"none\" points=\"34,-219.5 34,-255.5 154,-255.5 154,-219.5 34,-219.5\" stroke=\"#000000\"/>\n<text fill=\"#000000\" font-family=\"Times,serif\" font-size=\"14.00\" text-anchor=\"middle\" x=\"94\" y=\"-233.8\">relu_1: Activation</text>\n</g>\n<!-- 139745657937816&#45;&gt;139745657937760 -->\n<g class=\"edge\" id=\"edge6\">\n<title>139745657937816-&gt;139745657937760</title>\n<path d=\"M94,-292.4551C94,-284.3828 94,-274.6764 94,-265.6817\" fill=\"none\" stroke=\"#000000\"/>\n<polygon fill=\"#000000\" points=\"97.5001,-265.5903 94,-255.5904 90.5001,-265.5904 97.5001,-265.5903\" stroke=\"#000000\"/>\n</g>\n<!-- 139745658838040 -->\n<g class=\"node\" id=\"node8\">\n<title>139745658838040</title>\n<polygon fill=\"none\" points=\"45,-146.5 45,-182.5 143,-182.5 143,-146.5 45,-146.5\" stroke=\"#000000\"/>\n<text fill=\"#000000\" font-family=\"Times,serif\" font-size=\"14.00\" text-anchor=\"middle\" x=\"94\" y=\"-160.8\">flatten: Flatten</text>\n</g>\n<!-- 139745657937760&#45;&gt;139745658838040 -->\n<g class=\"edge\" id=\"edge7\">\n<title>139745657937760-&gt;139745658838040</title>\n<path d=\"M94,-219.4551C94,-211.3828 94,-201.6764 94,-192.6817\" fill=\"none\" stroke=\"#000000\"/>\n<polygon fill=\"#000000\" points=\"97.5001,-192.5903 94,-182.5904 90.5001,-192.5904 97.5001,-192.5903\" stroke=\"#000000\"/>\n</g>\n<!-- 139745658516312 -->\n<g class=\"node\" id=\"node9\">\n<title>139745658516312</title>\n<polygon fill=\"none\" points=\"55.5,-73.5 55.5,-109.5 132.5,-109.5 132.5,-73.5 55.5,-73.5\" stroke=\"#000000\"/>\n<text fill=\"#000000\" font-family=\"Times,serif\" font-size=\"14.00\" text-anchor=\"middle\" x=\"94\" y=\"-87.8\">fc0: Dense</text>\n</g>\n<!-- 139745658838040&#45;&gt;139745658516312 -->\n<g class=\"edge\" id=\"edge8\">\n<title>139745658838040-&gt;139745658516312</title>\n<path d=\"M94,-146.4551C94,-138.3828 94,-128.6764 94,-119.6817\" fill=\"none\" stroke=\"#000000\"/>\n<polygon fill=\"#000000\" points=\"97.5001,-119.5903 94,-109.5904 90.5001,-119.5904 97.5001,-119.5903\" stroke=\"#000000\"/>\n</g>\n<!-- 139745658550704 -->\n<g class=\"node\" id=\"node10\">\n<title>139745658550704</title>\n<polygon fill=\"none\" points=\"55.5,-.5 55.5,-36.5 132.5,-36.5 132.5,-.5 55.5,-.5\" stroke=\"#000000\"/>\n<text fill=\"#000000\" font-family=\"Times,serif\" font-size=\"14.00\" text-anchor=\"middle\" x=\"94\" y=\"-14.8\">fc1: Dense</text>\n</g>\n<!-- 139745658516312&#45;&gt;139745658550704 -->\n<g class=\"edge\" id=\"edge9\">\n<title>139745658516312-&gt;139745658550704</title>\n<path d=\"M94,-73.4551C94,-65.3828 94,-55.6764 94,-46.6817\" fill=\"none\" stroke=\"#000000\"/>\n<polygon fill=\"#000000\" points=\"97.5001,-46.5903 94,-36.5904 90.5001,-46.5904 97.5001,-46.5903\" stroke=\"#000000\"/>\n</g>\n</g>\n</svg>"
          },
          "metadata": {
            "tags": []
          },
          "execution_count": 35
        }
      ]
    }
  ]
}